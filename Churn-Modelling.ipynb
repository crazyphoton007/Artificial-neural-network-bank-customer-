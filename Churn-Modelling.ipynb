{
 "cells": [
  {
   "cell_type": "code",
   "execution_count": 1,
   "metadata": {},
   "outputs": [],
   "source": [
    "import numpy as np"
   ]
  },
  {
   "cell_type": "code",
   "execution_count": 2,
   "metadata": {},
   "outputs": [],
   "source": [
    "import matplotlib.pyplot as plt"
   ]
  },
  {
   "cell_type": "code",
   "execution_count": 3,
   "metadata": {},
   "outputs": [],
   "source": [
    "import pandas as pd"
   ]
  },
  {
   "cell_type": "code",
   "execution_count": 4,
   "metadata": {},
   "outputs": [],
   "source": [
    "dataset = pd.read_csv('Churn_Modelling.csv')\n"
   ]
  },
  {
   "cell_type": "code",
   "execution_count": 8,
   "metadata": {},
   "outputs": [
    {
     "data": {
      "text/html": [
       "<div>\n",
       "<style scoped>\n",
       "    .dataframe tbody tr th:only-of-type {\n",
       "        vertical-align: middle;\n",
       "    }\n",
       "\n",
       "    .dataframe tbody tr th {\n",
       "        vertical-align: top;\n",
       "    }\n",
       "\n",
       "    .dataframe thead th {\n",
       "        text-align: right;\n",
       "    }\n",
       "</style>\n",
       "<table border=\"1\" class=\"dataframe\">\n",
       "  <thead>\n",
       "    <tr style=\"text-align: right;\">\n",
       "      <th></th>\n",
       "      <th>RowNumber</th>\n",
       "      <th>CustomerId</th>\n",
       "      <th>Surname</th>\n",
       "      <th>CreditScore</th>\n",
       "      <th>Geography</th>\n",
       "      <th>Gender</th>\n",
       "      <th>Age</th>\n",
       "      <th>Tenure</th>\n",
       "      <th>Balance</th>\n",
       "      <th>NumOfProducts</th>\n",
       "      <th>HasCrCard</th>\n",
       "      <th>IsActiveMember</th>\n",
       "      <th>EstimatedSalary</th>\n",
       "      <th>Exited</th>\n",
       "    </tr>\n",
       "  </thead>\n",
       "  <tbody>\n",
       "    <tr>\n",
       "      <td>0</td>\n",
       "      <td>1</td>\n",
       "      <td>15634602</td>\n",
       "      <td>Hargrave</td>\n",
       "      <td>619</td>\n",
       "      <td>France</td>\n",
       "      <td>Female</td>\n",
       "      <td>42</td>\n",
       "      <td>2</td>\n",
       "      <td>0.00</td>\n",
       "      <td>1</td>\n",
       "      <td>1</td>\n",
       "      <td>1</td>\n",
       "      <td>101348.88</td>\n",
       "      <td>1</td>\n",
       "    </tr>\n",
       "    <tr>\n",
       "      <td>1</td>\n",
       "      <td>2</td>\n",
       "      <td>15647311</td>\n",
       "      <td>Hill</td>\n",
       "      <td>608</td>\n",
       "      <td>Spain</td>\n",
       "      <td>Female</td>\n",
       "      <td>41</td>\n",
       "      <td>1</td>\n",
       "      <td>83807.86</td>\n",
       "      <td>1</td>\n",
       "      <td>0</td>\n",
       "      <td>1</td>\n",
       "      <td>112542.58</td>\n",
       "      <td>0</td>\n",
       "    </tr>\n",
       "    <tr>\n",
       "      <td>2</td>\n",
       "      <td>3</td>\n",
       "      <td>15619304</td>\n",
       "      <td>Onio</td>\n",
       "      <td>502</td>\n",
       "      <td>France</td>\n",
       "      <td>Female</td>\n",
       "      <td>42</td>\n",
       "      <td>8</td>\n",
       "      <td>159660.80</td>\n",
       "      <td>3</td>\n",
       "      <td>1</td>\n",
       "      <td>0</td>\n",
       "      <td>113931.57</td>\n",
       "      <td>1</td>\n",
       "    </tr>\n",
       "    <tr>\n",
       "      <td>3</td>\n",
       "      <td>4</td>\n",
       "      <td>15701354</td>\n",
       "      <td>Boni</td>\n",
       "      <td>699</td>\n",
       "      <td>France</td>\n",
       "      <td>Female</td>\n",
       "      <td>39</td>\n",
       "      <td>1</td>\n",
       "      <td>0.00</td>\n",
       "      <td>2</td>\n",
       "      <td>0</td>\n",
       "      <td>0</td>\n",
       "      <td>93826.63</td>\n",
       "      <td>0</td>\n",
       "    </tr>\n",
       "    <tr>\n",
       "      <td>4</td>\n",
       "      <td>5</td>\n",
       "      <td>15737888</td>\n",
       "      <td>Mitchell</td>\n",
       "      <td>850</td>\n",
       "      <td>Spain</td>\n",
       "      <td>Female</td>\n",
       "      <td>43</td>\n",
       "      <td>2</td>\n",
       "      <td>125510.82</td>\n",
       "      <td>1</td>\n",
       "      <td>1</td>\n",
       "      <td>1</td>\n",
       "      <td>79084.10</td>\n",
       "      <td>0</td>\n",
       "    </tr>\n",
       "  </tbody>\n",
       "</table>\n",
       "</div>"
      ],
      "text/plain": [
       "   RowNumber  CustomerId   Surname  CreditScore Geography  Gender  Age  \\\n",
       "0          1    15634602  Hargrave          619    France  Female   42   \n",
       "1          2    15647311      Hill          608     Spain  Female   41   \n",
       "2          3    15619304      Onio          502    France  Female   42   \n",
       "3          4    15701354      Boni          699    France  Female   39   \n",
       "4          5    15737888  Mitchell          850     Spain  Female   43   \n",
       "\n",
       "   Tenure    Balance  NumOfProducts  HasCrCard  IsActiveMember  \\\n",
       "0       2       0.00              1          1               1   \n",
       "1       1   83807.86              1          0               1   \n",
       "2       8  159660.80              3          1               0   \n",
       "3       1       0.00              2          0               0   \n",
       "4       2  125510.82              1          1               1   \n",
       "\n",
       "   EstimatedSalary  Exited  \n",
       "0        101348.88       1  \n",
       "1        112542.58       0  \n",
       "2        113931.57       1  \n",
       "3         93826.63       0  \n",
       "4         79084.10       0  "
      ]
     },
     "execution_count": 8,
     "metadata": {},
     "output_type": "execute_result"
    }
   ],
   "source": [
    "dataset.head()"
   ]
  },
  {
   "cell_type": "code",
   "execution_count": 7,
   "metadata": {},
   "outputs": [],
   "source": [
    "X = dataset.iloc[:, 3:13]\n",
    "y = dataset.iloc[:, 13]"
   ]
  },
  {
   "cell_type": "markdown",
   "metadata": {},
   "source": [
    "### Create dummy variables"
   ]
  },
  {
   "cell_type": "code",
   "execution_count": 6,
   "metadata": {},
   "outputs": [],
   "source": [
    "geography = pd.get_dummies(X[\"Geography\"],drop_first=True)\n",
    "gender = pd.get_dummies(X['Gender'],drop_first=True)"
   ]
  },
  {
   "cell_type": "markdown",
   "metadata": {},
   "source": [
    "### Concatenate  the Data Frames"
   ]
  },
  {
   "cell_type": "code",
   "execution_count": 9,
   "metadata": {},
   "outputs": [],
   "source": [
    "X=pd.concat([X,geography,gender],axis=1)"
   ]
  },
  {
   "cell_type": "markdown",
   "metadata": {},
   "source": [
    "### Drop Unnecessary columns"
   ]
  },
  {
   "cell_type": "code",
   "execution_count": 11,
   "metadata": {},
   "outputs": [],
   "source": [
    "X=X.drop(['Geography','Gender'],axis=1)"
   ]
  },
  {
   "cell_type": "markdown",
   "metadata": {},
   "source": [
    "### Splitting the dataset into the training set and test set"
   ]
  },
  {
   "cell_type": "code",
   "execution_count": 13,
   "metadata": {},
   "outputs": [],
   "source": [
    "from sklearn.model_selection import train_test_split"
   ]
  },
  {
   "cell_type": "code",
   "execution_count": 14,
   "metadata": {},
   "outputs": [],
   "source": [
    "X_train, X_test, y_train, y_test = train_test_split(X, y, test_size =0.2, random_state = 0)"
   ]
  },
  {
   "cell_type": "code",
   "execution_count": 17,
   "metadata": {},
   "outputs": [],
   "source": [
    "\n",
    "# feature Scaling"
   ]
  },
  {
   "cell_type": "code",
   "execution_count": 18,
   "metadata": {},
   "outputs": [],
   "source": [
    "from sklearn.preprocessing import StandardScaler"
   ]
  },
  {
   "cell_type": "code",
   "execution_count": 19,
   "metadata": {},
   "outputs": [],
   "source": [
    "sc = StandardScaler()"
   ]
  },
  {
   "cell_type": "code",
   "execution_count": 20,
   "metadata": {},
   "outputs": [],
   "source": [
    "X_train = sc.fit_transform(X_train)\n",
    "X_test = sc.transform(X_test)"
   ]
  },
  {
   "cell_type": "code",
   "execution_count": 21,
   "metadata": {},
   "outputs": [],
   "source": [
    "# Part 2 - Now Let's make the ANN!"
   ]
  },
  {
   "cell_type": "code",
   "execution_count": 22,
   "metadata": {},
   "outputs": [],
   "source": [
    "# Importing the keras libraries and packages"
   ]
  },
  {
   "cell_type": "code",
   "execution_count": 23,
   "metadata": {},
   "outputs": [
    {
     "name": "stderr",
     "output_type": "stream",
     "text": [
      "Using TensorFlow backend.\n"
     ]
    }
   ],
   "source": [
    "import keras\n",
    "from keras.models import Sequential\n",
    "from keras.layers import Dense\n",
    "from keras.layers import LeakyReLU,PReLU,ELU\n",
    "from keras.layers import Dropout"
   ]
  },
  {
   "cell_type": "code",
   "execution_count": 24,
   "metadata": {},
   "outputs": [],
   "source": [
    "classifier = Sequential()"
   ]
  },
  {
   "cell_type": "code",
   "execution_count": 25,
   "metadata": {},
   "outputs": [],
   "source": [
    "# Adding the input layer and the first hidden layer"
   ]
  },
  {
   "cell_type": "code",
   "execution_count": 37,
   "metadata": {},
   "outputs": [],
   "source": [
    "classifier.add(Dense(units = 6, kernel_initializer = 'he_uniform', activation='relu',input_dim =11))"
   ]
  },
  {
   "cell_type": "code",
   "execution_count": 28,
   "metadata": {},
   "outputs": [],
   "source": [
    "# Adding the second hidden layer"
   ]
  },
  {
   "cell_type": "code",
   "execution_count": 38,
   "metadata": {},
   "outputs": [],
   "source": [
    "classifier.add(Dense(units = 6, kernel_initializer = 'he_uniform',activation='relu'))"
   ]
  },
  {
   "cell_type": "code",
   "execution_count": 30,
   "metadata": {},
   "outputs": [],
   "source": [
    "# Adding the output hidden layer"
   ]
  },
  {
   "cell_type": "code",
   "execution_count": 40,
   "metadata": {},
   "outputs": [],
   "source": [
    "classifier.add(Dense(units =1, kernel_initializer = 'glorot_uniform', activation = 'sigmoid'))"
   ]
  },
  {
   "cell_type": "code",
   "execution_count": 32,
   "metadata": {},
   "outputs": [],
   "source": [
    "# Compiling the ANN"
   ]
  },
  {
   "cell_type": "code",
   "execution_count": 58,
   "metadata": {},
   "outputs": [],
   "source": [
    "classifier.compile(optimizer = 'Adam', loss = 'binary_crossentropy', metrics =['accuracy'])"
   ]
  },
  {
   "cell_type": "code",
   "execution_count": 55,
   "metadata": {},
   "outputs": [],
   "source": [
    "# Fitting the ANN to the Training set\n"
   ]
  },
  {
   "cell_type": "code",
   "execution_count": 57,
   "metadata": {},
   "outputs": [
    {
     "name": "stdout",
     "output_type": "stream",
     "text": [
      "Train on 5359 samples, validate on 2641 samples\n",
      "Epoch 1/100\n",
      " 600/5359 [==>...........................] - ETA: 1s - loss: 0.3471 - accuracy: 0.8533"
     ]
    },
    {
     "name": "stderr",
     "output_type": "stream",
     "text": [
      "C:\\Users\\Shukla\\Anaconda3\\lib\\site-packages\\ipykernel_launcher.py:1: UserWarning: The `nb_epoch` argument in `fit` has been renamed `epochs`.\n",
      "  \"\"\"Entry point for launching an IPython kernel.\n"
     ]
    },
    {
     "name": "stdout",
     "output_type": "stream",
     "text": [
      "5359/5359 [==============================] - 2s 331us/step - loss: 0.3370 - accuracy: 0.8599 - val_loss: 0.3614 - val_accuracy: 0.8523\n",
      "Epoch 2/100\n",
      "5359/5359 [==============================] - 2s 306us/step - loss: 0.3379 - accuracy: 0.8559 - val_loss: 0.3693 - val_accuracy: 0.8463\n",
      "Epoch 3/100\n",
      "5359/5359 [==============================] - 2s 295us/step - loss: 0.3373 - accuracy: 0.8602 - val_loss: 0.3653 - val_accuracy: 0.8542\n",
      "Epoch 4/100\n",
      "5359/5359 [==============================] - 2s 294us/step - loss: 0.3374 - accuracy: 0.8604 - val_loss: 0.3586 - val_accuracy: 0.8557\n",
      "Epoch 5/100\n",
      "5359/5359 [==============================] - 2s 295us/step - loss: 0.3373 - accuracy: 0.8600 - val_loss: 0.3610 - val_accuracy: 0.8535\n",
      "Epoch 6/100\n",
      "5359/5359 [==============================] - 2s 296us/step - loss: 0.3361 - accuracy: 0.8608 - val_loss: 0.3615 - val_accuracy: 0.8535\n",
      "Epoch 7/100\n",
      "5359/5359 [==============================] - 2s 362us/step - loss: 0.3364 - accuracy: 0.8630 - val_loss: 0.3606 - val_accuracy: 0.8538\n",
      "Epoch 8/100\n",
      "5359/5359 [==============================] - 2s 372us/step - loss: 0.3368 - accuracy: 0.8606 - val_loss: 0.3602 - val_accuracy: 0.8550\n",
      "Epoch 9/100\n",
      "5359/5359 [==============================] - 2s 307us/step - loss: 0.3360 - accuracy: 0.8589 - val_loss: 0.3687 - val_accuracy: 0.8463\n",
      "Epoch 10/100\n",
      "5359/5359 [==============================] - 2s 293us/step - loss: 0.3358 - accuracy: 0.8602 - val_loss: 0.3601 - val_accuracy: 0.8546\n",
      "Epoch 11/100\n",
      "5359/5359 [==============================] - 2s 298us/step - loss: 0.3375 - accuracy: 0.8574 - val_loss: 0.3610 - val_accuracy: 0.8557\n",
      "Epoch 12/100\n",
      "5359/5359 [==============================] - 2s 300us/step - loss: 0.3354 - accuracy: 0.8656 - val_loss: 0.3680 - val_accuracy: 0.8478\n",
      "Epoch 13/100\n",
      "5359/5359 [==============================] - 2s 312us/step - loss: 0.3379 - accuracy: 0.8589 - val_loss: 0.3640 - val_accuracy: 0.8512\n",
      "Epoch 14/100\n",
      "5359/5359 [==============================] - 2s 328us/step - loss: 0.3360 - accuracy: 0.8614 - val_loss: 0.3668 - val_accuracy: 0.8512\n",
      "Epoch 15/100\n",
      "5359/5359 [==============================] - 2s 333us/step - loss: 0.3366 - accuracy: 0.8604 - val_loss: 0.3647 - val_accuracy: 0.8546\n",
      "Epoch 16/100\n",
      "5359/5359 [==============================] - 2s 337us/step - loss: 0.3358 - accuracy: 0.8602 - val_loss: 0.3602 - val_accuracy: 0.8550\n",
      "Epoch 17/100\n",
      "5359/5359 [==============================] - 2s 437us/step - loss: 0.3378 - accuracy: 0.8595 - val_loss: 0.3630 - val_accuracy: 0.8546\n",
      "Epoch 18/100\n",
      "5359/5359 [==============================] - 2s 357us/step - loss: 0.3361 - accuracy: 0.8625 - val_loss: 0.3671 - val_accuracy: 0.8576\n",
      "Epoch 19/100\n",
      "5359/5359 [==============================] - 2s 335us/step - loss: 0.3368 - accuracy: 0.8589 - val_loss: 0.3612 - val_accuracy: 0.8576\n",
      "Epoch 20/100\n",
      "5359/5359 [==============================] - 2s 351us/step - loss: 0.3368 - accuracy: 0.8604 - val_loss: 0.3609 - val_accuracy: 0.8535\n",
      "Epoch 21/100\n",
      "5359/5359 [==============================] - 2s 298us/step - loss: 0.3369 - accuracy: 0.8606 - val_loss: 0.3636 - val_accuracy: 0.8531\n",
      "Epoch 22/100\n",
      "5359/5359 [==============================] - 2s 310us/step - loss: 0.3363 - accuracy: 0.8584 - val_loss: 0.3659 - val_accuracy: 0.8535\n",
      "Epoch 23/100\n",
      "5359/5359 [==============================] - 2s 362us/step - loss: 0.3366 - accuracy: 0.8610 - val_loss: 0.3598 - val_accuracy: 0.8557\n",
      "Epoch 24/100\n",
      "5359/5359 [==============================] - 2s 367us/step - loss: 0.3375 - accuracy: 0.8569 - val_loss: 0.3596 - val_accuracy: 0.8565\n",
      "Epoch 25/100\n",
      "5359/5359 [==============================] - 3s 513us/step - loss: 0.3339 - accuracy: 0.8614 - val_loss: 0.3705 - val_accuracy: 0.8523\n",
      "Epoch 26/100\n",
      "5359/5359 [==============================] - 3s 500us/step - loss: 0.3363 - accuracy: 0.8617 - val_loss: 0.3605 - val_accuracy: 0.8535\n",
      "Epoch 27/100\n",
      "5359/5359 [==============================] - 2s 344us/step - loss: 0.3373 - accuracy: 0.8591 - val_loss: 0.3620 - val_accuracy: 0.8535\n",
      "Epoch 28/100\n",
      "5359/5359 [==============================] - 2s 442us/step - loss: 0.3359 - accuracy: 0.8595 - val_loss: 0.3672 - val_accuracy: 0.8508\n",
      "Epoch 29/100\n",
      "5359/5359 [==============================] - 2s 351us/step - loss: 0.3362 - accuracy: 0.8604 - val_loss: 0.3598 - val_accuracy: 0.8531\n",
      "Epoch 30/100\n",
      "5359/5359 [==============================] - 2s 381us/step - loss: 0.3368 - accuracy: 0.8597 - val_loss: 0.3584 - val_accuracy: 0.8531\n",
      "Epoch 31/100\n",
      "5359/5359 [==============================] - 2s 310us/step - loss: 0.3353 - accuracy: 0.8614 - val_loss: 0.3616 - val_accuracy: 0.8535\n",
      "Epoch 32/100\n",
      "5359/5359 [==============================] - 2s 329us/step - loss: 0.3354 - accuracy: 0.8593 - val_loss: 0.3622 - val_accuracy: 0.8519\n",
      "Epoch 33/100\n",
      "5359/5359 [==============================] - 2s 411us/step - loss: 0.3365 - accuracy: 0.8591 - val_loss: 0.3588 - val_accuracy: 0.8546\n",
      "Epoch 34/100\n",
      "5359/5359 [==============================] - 2s 325us/step - loss: 0.3343 - accuracy: 0.8630 - val_loss: 0.3660 - val_accuracy: 0.8493\n",
      "Epoch 35/100\n",
      "5359/5359 [==============================] - 2s 298us/step - loss: 0.3360 - accuracy: 0.8595 - val_loss: 0.3643 - val_accuracy: 0.8501\n",
      "Epoch 36/100\n",
      "5359/5359 [==============================] - 2s 300us/step - loss: 0.3361 - accuracy: 0.8600 - val_loss: 0.3590 - val_accuracy: 0.8557\n",
      "Epoch 37/100\n",
      "5359/5359 [==============================] - 2s 329us/step - loss: 0.3354 - accuracy: 0.8628 - val_loss: 0.3642 - val_accuracy: 0.8482\n",
      "Epoch 38/100\n",
      "5359/5359 [==============================] - 2s 328us/step - loss: 0.3360 - accuracy: 0.8614 - val_loss: 0.3612 - val_accuracy: 0.8531\n",
      "Epoch 39/100\n",
      "5359/5359 [==============================] - 2s 303us/step - loss: 0.3357 - accuracy: 0.8606 - val_loss: 0.3718 - val_accuracy: 0.8523\n",
      "Epoch 40/100\n",
      "5359/5359 [==============================] - 2s 300us/step - loss: 0.3357 - accuracy: 0.8602 - val_loss: 0.3584 - val_accuracy: 0.8538\n",
      "Epoch 41/100\n",
      "5359/5359 [==============================] - 2s 302us/step - loss: 0.3340 - accuracy: 0.8610 - val_loss: 0.3594 - val_accuracy: 0.8512\n",
      "Epoch 42/100\n",
      "5359/5359 [==============================] - 3s 589us/step - loss: 0.3362 - accuracy: 0.8584 - val_loss: 0.3614 - val_accuracy: 0.8569\n",
      "Epoch 43/100\n",
      "5359/5359 [==============================] - 2s 368us/step - loss: 0.3372 - accuracy: 0.8597 - val_loss: 0.3620 - val_accuracy: 0.8531\n",
      "Epoch 44/100\n",
      "5359/5359 [==============================] - 2s 375us/step - loss: 0.3361 - accuracy: 0.8589 - val_loss: 0.3670 - val_accuracy: 0.8512\n",
      "Epoch 45/100\n",
      "5359/5359 [==============================] - 2s 341us/step - loss: 0.3358 - accuracy: 0.8625 - val_loss: 0.3605 - val_accuracy: 0.8542\n",
      "Epoch 46/100\n",
      "5359/5359 [==============================] - 2s 310us/step - loss: 0.3345 - accuracy: 0.8606 - val_loss: 0.3612 - val_accuracy: 0.8565\n",
      "Epoch 47/100\n",
      "5359/5359 [==============================] - 2s 329us/step - loss: 0.3358 - accuracy: 0.8621 - val_loss: 0.3604 - val_accuracy: 0.8512\n",
      "Epoch 48/100\n",
      "5359/5359 [==============================] - 2s 365us/step - loss: 0.3356 - accuracy: 0.8602 - val_loss: 0.3731 - val_accuracy: 0.8440\n",
      "Epoch 49/100\n",
      "5359/5359 [==============================] - 2s 401us/step - loss: 0.3355 - accuracy: 0.8617 - val_loss: 0.3647 - val_accuracy: 0.8557\n",
      "Epoch 50/100\n",
      "5359/5359 [==============================] - 2s 453us/step - loss: 0.3347 - accuracy: 0.8619 - val_loss: 0.3629 - val_accuracy: 0.8497\n",
      "Epoch 51/100\n",
      "5359/5359 [==============================] - 2s 308us/step - loss: 0.3339 - accuracy: 0.8600 - val_loss: 0.3615 - val_accuracy: 0.8557\n",
      "Epoch 52/100\n",
      "5359/5359 [==============================] - 2s 306us/step - loss: 0.3353 - accuracy: 0.8604 - val_loss: 0.3595 - val_accuracy: 0.8576\n",
      "Epoch 53/100\n",
      "5359/5359 [==============================] - 2s 349us/step - loss: 0.3368 - accuracy: 0.8584 - val_loss: 0.3645 - val_accuracy: 0.8538\n",
      "Epoch 54/100\n",
      "5359/5359 [==============================] - 2s 302us/step - loss: 0.3354 - accuracy: 0.8625 - val_loss: 0.3646 - val_accuracy: 0.8501\n",
      "Epoch 55/100\n",
      "5359/5359 [==============================] - 2s 320us/step - loss: 0.3367 - accuracy: 0.8593 - val_loss: 0.3664 - val_accuracy: 0.8508\n",
      "Epoch 56/100\n"
     ]
    },
    {
     "name": "stdout",
     "output_type": "stream",
     "text": [
      "5359/5359 [==============================] - 2s 327us/step - loss: 0.3362 - accuracy: 0.8628 - val_loss: 0.3591 - val_accuracy: 0.8546\n",
      "Epoch 57/100\n",
      "5359/5359 [==============================] - 2s 318us/step - loss: 0.3349 - accuracy: 0.8617 - val_loss: 0.3716 - val_accuracy: 0.8474\n",
      "Epoch 58/100\n",
      "5359/5359 [==============================] - 2s 420us/step - loss: 0.3365 - accuracy: 0.8623 - val_loss: 0.3616 - val_accuracy: 0.8542\n",
      "Epoch 59/100\n",
      "5359/5359 [==============================] - 3s 572us/step - loss: 0.3351 - accuracy: 0.8619 - val_loss: 0.3687 - val_accuracy: 0.8512\n",
      "Epoch 60/100\n",
      "5359/5359 [==============================] - 3s 520us/step - loss: 0.3354 - accuracy: 0.8599 - val_loss: 0.3579 - val_accuracy: 0.8565\n",
      "Epoch 61/100\n",
      "5359/5359 [==============================] - 3s 653us/step - loss: 0.3357 - accuracy: 0.8612 - val_loss: 0.3642 - val_accuracy: 0.8497\n",
      "Epoch 62/100\n",
      "5359/5359 [==============================] - 3s 587us/step - loss: 0.3347 - accuracy: 0.8612 - val_loss: 0.3709 - val_accuracy: 0.8455\n",
      "Epoch 63/100\n",
      "5359/5359 [==============================] - 3s 569us/step - loss: 0.3354 - accuracy: 0.8627 - val_loss: 0.3615 - val_accuracy: 0.8557\n",
      "Epoch 64/100\n",
      "5359/5359 [==============================] - 4s 679us/step - loss: 0.3355 - accuracy: 0.8580 - val_loss: 0.3750 - val_accuracy: 0.8379\n",
      "Epoch 65/100\n",
      "5359/5359 [==============================] - 3s 556us/step - loss: 0.3354 - accuracy: 0.8586 - val_loss: 0.3632 - val_accuracy: 0.8527\n",
      "Epoch 66/100\n",
      "5359/5359 [==============================] - 3s 515us/step - loss: 0.3357 - accuracy: 0.8634 - val_loss: 0.3595 - val_accuracy: 0.8542\n",
      "Epoch 67/100\n",
      "5359/5359 [==============================] - 4s 669us/step - loss: 0.3341 - accuracy: 0.8615 - val_loss: 0.3619 - val_accuracy: 0.8557\n",
      "Epoch 68/100\n",
      "5359/5359 [==============================] - 5s 892us/step - loss: 0.3346 - accuracy: 0.8597 - val_loss: 0.3625 - val_accuracy: 0.8573\n",
      "Epoch 69/100\n",
      "5359/5359 [==============================] - 5s 845us/step - loss: 0.3349 - accuracy: 0.8614 - val_loss: 0.3618 - val_accuracy: 0.8535\n",
      "Epoch 70/100\n",
      "5359/5359 [==============================] - 5s 1ms/step - loss: 0.3334 - accuracy: 0.8628 - val_loss: 0.3631 - val_accuracy: 0.8538\n",
      "Epoch 71/100\n",
      "5359/5359 [==============================] - 3s 495us/step - loss: 0.3354 - accuracy: 0.8610 - val_loss: 0.3594 - val_accuracy: 0.8542\n",
      "Epoch 72/100\n",
      "5359/5359 [==============================] - 5s 931us/step - loss: 0.3356 - accuracy: 0.8587 - val_loss: 0.3610 - val_accuracy: 0.8523\n",
      "Epoch 73/100\n",
      "5359/5359 [==============================] - 5s 860us/step - loss: 0.3348 - accuracy: 0.8608 - val_loss: 0.3598 - val_accuracy: 0.8531\n",
      "Epoch 74/100\n",
      "5359/5359 [==============================] - 3s 508us/step - loss: 0.3333 - accuracy: 0.8630 - val_loss: 0.3822 - val_accuracy: 0.8512\n",
      "Epoch 75/100\n",
      "5359/5359 [==============================] - 2s 396us/step - loss: 0.3348 - accuracy: 0.8610 - val_loss: 0.3588 - val_accuracy: 0.8538\n",
      "Epoch 76/100\n",
      "5359/5359 [==============================] - 3s 565us/step - loss: 0.3353 - accuracy: 0.8586 - val_loss: 0.3631 - val_accuracy: 0.8531\n",
      "Epoch 77/100\n",
      "5359/5359 [==============================] - 3s 636us/step - loss: 0.3345 - accuracy: 0.8628 - val_loss: 0.3610 - val_accuracy: 0.8538\n",
      "Epoch 78/100\n",
      "5359/5359 [==============================] - 3s 481us/step - loss: 0.3361 - accuracy: 0.8606 - val_loss: 0.3634 - val_accuracy: 0.8542\n",
      "Epoch 79/100\n",
      "5359/5359 [==============================] - 3s 517us/step - loss: 0.3339 - accuracy: 0.8561 - val_loss: 0.3611 - val_accuracy: 0.8546\n",
      "Epoch 80/100\n",
      "5359/5359 [==============================] - 2s 436us/step - loss: 0.3356 - accuracy: 0.8612 - val_loss: 0.3654 - val_accuracy: 0.8516\n",
      "Epoch 81/100\n",
      "5359/5359 [==============================] - 2s 430us/step - loss: 0.3336 - accuracy: 0.8615 - val_loss: 0.3601 - val_accuracy: 0.8542\n",
      "Epoch 82/100\n",
      "5359/5359 [==============================] - 4s 803us/step - loss: 0.3354 - accuracy: 0.8610 - val_loss: 0.3625 - val_accuracy: 0.8527\n",
      "Epoch 83/100\n",
      "5359/5359 [==============================] - 5s 972us/step - loss: 0.3344 - accuracy: 0.8602 - val_loss: 0.3636 - val_accuracy: 0.8542\n",
      "Epoch 84/100\n",
      "5359/5359 [==============================] - 4s 758us/step - loss: 0.3335 - accuracy: 0.8610 - val_loss: 0.3631 - val_accuracy: 0.8527\n",
      "Epoch 85/100\n",
      "5359/5359 [==============================] - 5s 857us/step - loss: 0.3341 - accuracy: 0.8628 - val_loss: 0.3591 - val_accuracy: 0.8561\n",
      "Epoch 86/100\n",
      "5359/5359 [==============================] - 5s 846us/step - loss: 0.3342 - accuracy: 0.8617 - val_loss: 0.3648 - val_accuracy: 0.8519\n",
      "Epoch 87/100\n",
      "5359/5359 [==============================] - 4s 760us/step - loss: 0.3356 - accuracy: 0.8614 - val_loss: 0.3748 - val_accuracy: 0.8478\n",
      "Epoch 88/100\n",
      "5359/5359 [==============================] - 2s 462us/step - loss: 0.3333 - accuracy: 0.8600 - val_loss: 0.3658 - val_accuracy: 0.8497\n",
      "Epoch 89/100\n",
      "5359/5359 [==============================] - 2s 330us/step - loss: 0.3351 - accuracy: 0.8604 - val_loss: 0.3641 - val_accuracy: 0.8497\n",
      "Epoch 90/100\n",
      "5359/5359 [==============================] - 2s 313us/step - loss: 0.3335 - accuracy: 0.8619 - val_loss: 0.3708 - val_accuracy: 0.8448\n",
      "Epoch 91/100\n",
      "5359/5359 [==============================] - 2s 343us/step - loss: 0.3350 - accuracy: 0.8630 - val_loss: 0.3616 - val_accuracy: 0.8516\n",
      "Epoch 92/100\n",
      "5359/5359 [==============================] - 2s 377us/step - loss: 0.3342 - accuracy: 0.8602 - val_loss: 0.3601 - val_accuracy: 0.8538\n",
      "Epoch 93/100\n",
      "5359/5359 [==============================] - 2s 306us/step - loss: 0.3354 - accuracy: 0.8610 - val_loss: 0.3689 - val_accuracy: 0.8459\n",
      "Epoch 94/100\n",
      "5359/5359 [==============================] - 2s 306us/step - loss: 0.3344 - accuracy: 0.8612 - val_loss: 0.3615 - val_accuracy: 0.8504\n",
      "Epoch 95/100\n",
      "5359/5359 [==============================] - 2s 311us/step - loss: 0.3339 - accuracy: 0.8615 - val_loss: 0.3599 - val_accuracy: 0.8550\n",
      "Epoch 96/100\n",
      "5359/5359 [==============================] - 2s 300us/step - loss: 0.3340 - accuracy: 0.8604 - val_loss: 0.3616 - val_accuracy: 0.8531\n",
      "Epoch 97/100\n",
      "5359/5359 [==============================] - 2s 303us/step - loss: 0.3335 - accuracy: 0.8614 - val_loss: 0.3615 - val_accuracy: 0.8531\n",
      "Epoch 98/100\n",
      "5359/5359 [==============================] - 2s 299us/step - loss: 0.3334 - accuracy: 0.8617 - val_loss: 0.3771 - val_accuracy: 0.8417\n",
      "Epoch 99/100\n",
      "5359/5359 [==============================] - 2s 301us/step - loss: 0.3349 - accuracy: 0.8610 - val_loss: 0.3605 - val_accuracy: 0.8504\n",
      "Epoch 100/100\n",
      "5359/5359 [==============================] - 2s 295us/step - loss: 0.3332 - accuracy: 0.8608 - val_loss: 0.3594 - val_accuracy: 0.8527\n"
     ]
    }
   ],
   "source": [
    "model_history=classifier.fit(X_train,y_train,validation_split=0.33, batch_size = 10, nb_epoch = 100 )"
   ]
  },
  {
   "cell_type": "code",
   "execution_count": 59,
   "metadata": {},
   "outputs": [],
   "source": [
    "# list all data in history"
   ]
  },
  {
   "cell_type": "code",
   "execution_count": 77,
   "metadata": {},
   "outputs": [
    {
     "name": "stdout",
     "output_type": "stream",
     "text": [
      "dict_keys(['val_loss', 'val_accuracy', 'loss', 'accuracy'])\n"
     ]
    }
   ],
   "source": [
    "print(model_history.history.keys())"
   ]
  },
  {
   "cell_type": "code",
   "execution_count": 95,
   "metadata": {},
   "outputs": [
    {
     "data": {
      "image/png": "[encoded data removed]",
      "text/plain": [
       "<Figure size 432x288 with 1 Axes>"
      ]
     },
     "metadata": {
      "needs_background": "light"
     },
     "output_type": "display_data"
    }
   ],
   "source": [
    "# summarize history for accuracy\n",
    "plt.plot(model_history.history['val_loss'])\n",
    "plt.plot(model_history.history['val_accuracy'])\n",
    "plt.title('model accuracy')\n",
    "plt.ylabel('accuracy')\n",
    "plt.xlabel('epoch')\n",
    "plt.legend(['train','test'], loc='upper left')\n",
    "plt.show()"
   ]
  },
  {
   "cell_type": "code",
   "execution_count": 96,
   "metadata": {},
   "outputs": [],
   "source": [
    "y_pred = classifier.predict(X_test)\n"
   ]
  },
  {
   "cell_type": "code",
   "execution_count": 97,
   "metadata": {},
   "outputs": [],
   "source": [
    "y_pred = (y_pred > 0.5)"
   ]
  },
  {
   "cell_type": "code",
   "execution_count": 98,
   "metadata": {},
   "outputs": [],
   "source": [
    "# Making the Confusion Matrix"
   ]
  },
  {
   "cell_type": "code",
   "execution_count": 105,
   "metadata": {},
   "outputs": [
    {
     "name": "stdout",
     "output_type": "stream",
     "text": [
      "[[1520   75]\n",
      " [ 202  203]]\n"
     ]
    }
   ],
   "source": [
    "from sklearn.metrics import confusion_matrix\n",
    "cm = confusion_matrix(y_test, y_pred)\n",
    "print (cm)\n"
   ]
  },
  {
   "cell_type": "code",
   "execution_count": 100,
   "metadata": {},
   "outputs": [],
   "source": [
    "# Calculate the Accuracy\n"
   ]
  },
  {
   "cell_type": "code",
   "execution_count": 101,
   "metadata": {},
   "outputs": [],
   "source": [
    "from sklearn .metrics import accuracy_score"
   ]
  },
  {
   "cell_type": "code",
   "execution_count": 102,
   "metadata": {},
   "outputs": [],
   "source": [
    "score = accuracy_score(y_pred, y_test)"
   ]
  },
  {
   "cell_type": "code",
   "execution_count": 104,
   "metadata": {},
   "outputs": [
    {
     "name": "stdout",
     "output_type": "stream",
     "text": [
      "0.8615\n"
     ]
    }
   ],
   "source": [
    "print (score)"
   ]
  },
  {
   "cell_type": "code",
   "execution_count": 109,
   "metadata": {},
   "outputs": [],
   "source": [
    "##The accuracy is pretty good for 10k records and I'm sure if we will go with 1 million records then accuracy will be above\n",
    "##90 percent."
   ]
  },
  {
   "cell_type": "code",
   "execution_count": null,
   "metadata": {},
   "outputs": [],
   "source": []
  },
  {
   "cell_type": "code",
   "execution_count": null,
   "metadata": {},
   "outputs": [],
   "source": []
  }
 ],
 "metadata": {
  "kernelspec": {
   "display_name": "Python 3",
   "language": "python",
   "name": "python3"
  },
  "language_info": {
   "codemirror_mode": {
    "name": "ipython",
    "version": 3
   },
   "file_extension": ".py",
   "mimetype": "text/x-python",
   "name": "python",
   "nbconvert_exporter": "python",
   "pygments_lexer": "ipython3",
   "version": "3.7.4"
  }
 },
 "nbformat": 4,
 "nbformat_minor": 2
}
